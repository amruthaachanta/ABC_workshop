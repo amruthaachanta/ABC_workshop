{
  "nbformat": 4,
  "nbformat_minor": 0,
  "metadata": {
    "colab": {
      "provenance": [],
      "authorship_tag": "ABX9TyMoZMpCD+3lEl1tfKH+9i7T",
      "include_colab_link": true
    },
    "kernelspec": {
      "name": "python3",
      "display_name": "Python 3"
    },
    "language_info": {
      "name": "python"
    }
  },
  "cells": [
    {
      "cell_type": "markdown",
      "metadata": {
        "id": "view-in-github",
        "colab_type": "text"
      },
      "source": [
        "<a href=\"https://colab.research.google.com/github/amruthaachanta/ABC_workshop/blob/main/numberguess.ipynb\" target=\"_parent\"><img src=\"https://colab.research.google.com/assets/colab-badge.svg\" alt=\"Open In Colab\"/></a>"
      ]
    },
    {
      "cell_type": "code",
      "execution_count": 1,
      "metadata": {
        "colab": {
          "base_uri": "https://localhost:8080/"
        },
        "id": "aw_OlPa8Oxv3",
        "outputId": "a9ce0946-7945-4cfe-eb42-9e4c473edb0b"
      },
      "outputs": [
        {
          "output_type": "stream",
          "name": "stdout",
          "text": [
            "Hi welcome to the game, This is a number guessing game.\n",
            "You got 7 chances to guess the number. Let's start the game\n",
            "Please Enter your Guess : 3\n",
            "Your guess is lesser\n",
            "Please Enter your Guess : 7\n",
            "Your guess is lesser\n",
            "Please Enter your Guess : 10\n",
            "Your guess is lesser\n",
            "Please Enter your Guess : 99\n",
            "Your guess is higher \n",
            "Please Enter your Guess : 50\n",
            "Your guess is lesser\n",
            "Please Enter your Guess : 80\n",
            "Your guess is higher \n",
            "Please Enter your Guess : 60\n",
            "Oops sorry, The number is 68 better luck next time\n"
          ]
        }
      ],
      "source": [
        "import random\n",
        "\n",
        "\n",
        "\n",
        "print(\"Hi welcome to the game, This is a number guessing game.\\nYou got 7 chances to guess the number. Let's start the game\")\n",
        "\n",
        "\n",
        "\n",
        "number_to_guess = random.randrange(100)\n",
        "\n",
        "\n",
        "\n",
        "chances = 7\n",
        "\n",
        "\n",
        "\n",
        "guess_counter = 0\n",
        "\n",
        "\n",
        "\n",
        "while guess_counter < chances:\n",
        "\n",
        "\n",
        "\n",
        "    guess_counter += 1\n",
        "\n",
        "    my_guess = int(input('Please Enter your Guess : '))\n",
        "\n",
        "\n",
        "\n",
        "    if my_guess == number_to_guess:\n",
        "\n",
        "        print(f'The number is {number_to_guess} and you found it right !! in the {guess_counter} attempt')\n",
        "\n",
        "        break\n",
        "\n",
        "\n",
        "\n",
        "    elif guess_counter >= chances and my_guess != number_to_guess:\n",
        "\n",
        "        print(f'Oops sorry, The number is {number_to_guess} better luck next time')\n",
        "\n",
        "\n",
        "\n",
        "    elif my_guess > number_to_guess:\n",
        "\n",
        "        print('Your guess is higher ')\n",
        "\n",
        "\n",
        "\n",
        "    elif my_guess < number_to_guess:\n",
        "\n",
        "        print('Your guess is lesser')\n",
        "\n",
        "\n",
        "\n",
        ""
      ]
    }
  ]
}